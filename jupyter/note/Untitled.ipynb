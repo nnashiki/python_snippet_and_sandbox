{
 "cells": [
  {
   "cell_type": "code",
   "execution_count": null,
   "metadata": {
    "scrolled": false
   },
   "outputs": [],
   "source": [
    "bb_df"
   ]
  },
  {
   "cell_type": "code",
   "execution_count": null,
   "metadata": {},
   "outputs": [],
   "source": [
    "bb_df['name'].unique()"
   ]
  },
  {
   "cell_type": "code",
   "execution_count": null,
   "metadata": {},
   "outputs": [],
   "source": [
    "select_colum = ['year','h','name']\n",
    "player_list = ['坂本 勇人','山田 哲人']\n",
    "\n",
    "sakamoto_df = bb_df[bb_df['name'].isin(player_list)][select_colum]\n",
    "display(sakamoto_df)"
   ]
  },
  {
   "cell_type": "code",
   "execution_count": null,
   "metadata": {},
   "outputs": [],
   "source": [
    "df_list= [bb_df[bb_df['name'] == player][select_colum] for player in player_list]\n",
    "\n",
    "for df in df_list:\n",
    "    display(df)"
   ]
  },
  {
   "cell_type": "code",
   "execution_count": null,
   "metadata": {
    "scrolled": true
   },
   "outputs": [],
   "source": [
    "from bokeh.io import output_notebook, show\n",
    "from bokeh.plotting import figure, output_file, show\n",
    "from bokeh.layouts import column,gridplot\n",
    "from bokeh.models import DataSource, RangeTool, HoverTool,ColumnDataSource,LabelSet\n",
    "import bokeh.palettes as bp\n",
    "output_notebook()\n",
    "import pandas as pd\n",
    "import numpy as np\n",
    "from bokeh.palettes import *\n",
    "\n",
    "#  ヒット数の推移\n",
    "\n",
    "\n",
    "\n",
    "\n",
    "p = figure(\n",
    "    title=None,  # タイトルを入力\n",
    "    x_axis_label='timestamp',  # x軸のラベル\n",
    "    y_axis_label='EP',  # y軸のラベル\n",
    "    x_range=(2007,2018),\n",
    "    y_range=(0,200),\n",
    "    width=1000,\n",
    "    height=500,  # グラフの幅と高さの指定\n",
    ")\n",
    "\n",
    "select_colum = ['year','h','name','hr']\n",
    "player_list = ['坂本 勇人','山田 哲人','筒香 嘉智']\n",
    "\n",
    "\n",
    "df_list= [bb_df[bb_df['name'] == player][select_colum] for player in player_list]\n",
    "\n",
    "for i,df in enumerate(df_list,3):\n",
    "    df = df.sort_values('year')\n",
    "    p.line(\n",
    "    x=df['year'], y=df['h'], color=Paired[12][i], legend=df['name'].unique()[0])\n",
    "\n",
    "#  ヒットと打撃の散布\n",
    "    \n",
    "q = figure(\n",
    "    title=None,  # タイトルを入力\n",
    "    x_axis_label='H',  # x軸のラベル\n",
    "\n",
    "    y_axis_label='HR',  # y軸のラベル\n",
    "\n",
    "\n",
    "    width=1000,\n",
    "    height=500,  # グラフの幅と高さの指定\n",
    ")\n",
    "\n",
    "for i,df in enumerate(df_list,3):\n",
    "    df = df.sort_values('year')\n",
    "    q.circle(\n",
    "    x=df['h'], y=df['hr'], color=Paired[12][i], legend=df['name'].unique()[0],size=20,name='a')\n",
    "\n",
    "\n",
    "r = figure(\n",
    "    title=None,  # タイトルを入力\n",
    "    x_axis_label='H',  # x軸のラベル\n",
    "\n",
    "    y_axis_label='HR',  # y軸のラベル\n",
    "\n",
    "\n",
    "    width=1000,\n",
    "    height=500,  # グラフの幅と高さの指定\n",
    ")\n",
    "\n",
    "source=ColumnDataSource(bb_df)\n",
    "r.circle(x='h', y='hr',source=source)\n",
    "labels = LabelSet(x='h', y='hr',\n",
    "              x_offset=5, y_offset=5, source=source)\n",
    "#r.add_layout(labels)\n",
    "\n",
    "s = figure(\n",
    "    title=None,  # タイトルを入力\n",
    "    x_axis_label='H',  # x軸のラベル\n",
    "\n",
    "    y_axis_label='HR',  # y軸のラベル\n",
    "\n",
    "\n",
    "    width=1000,\n",
    "    height=500,  # グラフの幅と高さの指定\n",
    ")\n",
    "\n",
    "s.vbar(x='h', top='hr',source=ColumnDataSource(bb_df.groupby('name').max())\n",
    "       ,width=0.5\n",
    "      )\n",
    "\n",
    "\n",
    "t = figure(\n",
    "    title=None,  # タイトルを入力\n",
    "    x_axis_label='timestamp',  # x軸のラベル\n",
    "    y_axis_label='HR',  # y軸のラベル\n",
    "    width=1000,\n",
    "    height=500,  # グラフの幅と高さの指定\n",
    ")\n",
    "\n",
    "t.vbar(x='year', top='hr',source=ColumnDataSource(bb_df[bb_df['name']=='筒香 嘉智'])\n",
    "       ,width=0.5\n",
    "      )\n",
    "\n",
    "t.vbar(x='year', top='hr',source=ColumnDataSource(bb_df[bb_df['name']=='坂本 勇人'])\n",
    "       ,width=0.5\n",
    "      )\n",
    "\n",
    "grid = gridplot([[p],[q],[r],[s],[t]])\n",
    "show(grid)"
   ]
  },
  {
   "cell_type": "code",
   "execution_count": null,
   "metadata": {},
   "outputs": [],
   "source": []
  }
 ],
 "metadata": {
  "hide_input": false,
  "kernelspec": {
   "display_name": "Python 3",
   "language": "python",
   "name": "python3"
  },
  "language_info": {
   "codemirror_mode": {
    "name": "ipython",
    "version": 3
   },
   "file_extension": ".py",
   "mimetype": "text/x-python",
   "name": "python",
   "nbconvert_exporter": "python",
   "pygments_lexer": "ipython3",
   "version": "3.6.7"
  },
  "toc": {
   "base_numbering": 1,
   "nav_menu": {},
   "number_sections": true,
   "sideBar": true,
   "skip_h1_title": false,
   "title_cell": "Table of Contents",
   "title_sidebar": "Contents",
   "toc_cell": false,
   "toc_position": {},
   "toc_section_display": true,
   "toc_window_display": false
  }
 },
 "nbformat": 4,
 "nbformat_minor": 2
}
