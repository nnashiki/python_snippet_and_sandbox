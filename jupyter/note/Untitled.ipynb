{
 "cells": [
  {
   "cell_type": "code",
   "execution_count": null,
   "metadata": {},
   "outputs": [],
   "source": [
    "bb_df"
   ]
  },
  {
   "cell_type": "code",
   "execution_count": null,
   "metadata": {},
   "outputs": [],
   "source": [
    "sakamoto_df = bb_df[bb_df['name'] == '坂本 勇人'][['h','year']]\n",
    "display(sakamoto_df)"
   ]
  },
  {
   "cell_type": "code",
   "execution_count": null,
   "metadata": {},
   "outputs": [],
   "source": [
    "from bokeh.io import output_notebook, show\n",
    "from bokeh.plotting import figure, output_file, show\n",
    "from bokeh.layouts import column\n",
    "from bokeh.models import DataSource,RangeTool,HoverTool\n",
    "import bokeh.palettes as bp\n",
    "output_notebook()\n",
    "import pandas as pd\n",
    "import numpy as np\n",
    "\n",
    "\n",
    "p = figure(title='タイトル',         # タイトルを入力\n",
    "           x_axis_label='timestamp', # x軸のラベル\n",
    "           y_axis_label='EP',        # y軸のラベル\n",
    "           width=1000 ,height=500,     # グラフの幅と高さの指定\n",
    "          )\n",
    "\n",
    "p.line(x=sakamoto_df['year'],y=sakamoto_df['h'],color='red',legend='sakamoto')\n",
    "\n",
    "show(column(p))\n"
   ]
  },
  {
   "cell_type": "code",
   "execution_count": null,
   "metadata": {},
   "outputs": [],
   "source": []
  }
 ],
 "metadata": {
  "hide_input": false,
  "kernelspec": {
   "display_name": "Python 3",
   "language": "python",
   "name": "python3"
  },
  "language_info": {
   "codemirror_mode": {
    "name": "ipython",
    "version": 3
   },
   "file_extension": ".py",
   "mimetype": "text/x-python",
   "name": "python",
   "nbconvert_exporter": "python",
   "pygments_lexer": "ipython3",
   "version": "3.6.6"
  },
  "toc": {
   "base_numbering": 1,
   "nav_menu": {},
   "number_sections": true,
   "sideBar": true,
   "skip_h1_title": false,
   "title_cell": "Table of Contents",
   "title_sidebar": "Contents",
   "toc_cell": false,
   "toc_position": {},
   "toc_section_display": true,
   "toc_window_display": false
  }
 },
 "nbformat": 4,
 "nbformat_minor": 2
}
